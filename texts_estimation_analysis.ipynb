{
 "cells": [
  {
   "cell_type": "markdown",
   "id": "560e5a81",
   "metadata": {},
   "source": [
    "# Анализ оценок текстовых файлов, полученных от LLM"
   ]
  },
  {
   "cell_type": "markdown",
   "id": "3835318d",
   "metadata": {},
   "source": [
    "## Импорт необходимых библиотек"
   ]
  },
  {
   "cell_type": "code",
   "execution_count": 1,
   "id": "7e499f76",
   "metadata": {},
   "outputs": [],
   "source": [
    "import random"
   ]
  },
  {
   "cell_type": "code",
   "execution_count": 2,
   "id": "028c3de1",
   "metadata": {},
   "outputs": [],
   "source": [
    "import numpy as np\n",
    "import pandas as pd\n",
    "import matplotlib.pyplot as plt\n",
    "import seaborn as sns"
   ]
  },
  {
   "cell_type": "code",
   "execution_count": 3,
   "id": "2e434627",
   "metadata": {},
   "outputs": [],
   "source": [
    "from core.utils.visualization import *"
   ]
  },
  {
   "cell_type": "markdown",
   "id": "807ef7d9",
   "metadata": {},
   "source": [
    "Для воспроизводимости экспериментов"
   ]
  },
  {
   "cell_type": "code",
   "execution_count": 4,
   "id": "8b2998c7",
   "metadata": {},
   "outputs": [],
   "source": [
    "random.seed(42)\n",
    "np.random.seed(42)"
   ]
  },
  {
   "cell_type": "markdown",
   "id": "1c4c04f3",
   "metadata": {},
   "source": [
    "## Загрузка и анализ данных"
   ]
  },
  {
   "cell_type": "code",
   "execution_count": 5,
   "id": "83075c07",
   "metadata": {},
   "outputs": [],
   "source": [
    "data_path = 'output/estimated_texts.csv'"
   ]
  },
  {
   "cell_type": "code",
   "execution_count": 6,
   "id": "1f6cc366",
   "metadata": {},
   "outputs": [
    {
     "data": {
      "text/html": [
       "<div>\n",
       "<style scoped>\n",
       "    .dataframe tbody tr th:only-of-type {\n",
       "        vertical-align: middle;\n",
       "    }\n",
       "\n",
       "    .dataframe tbody tr th {\n",
       "        vertical-align: top;\n",
       "    }\n",
       "\n",
       "    .dataframe thead th {\n",
       "        text-align: right;\n",
       "    }\n",
       "</style>\n",
       "<table border=\"1\" class=\"dataframe\">\n",
       "  <thead>\n",
       "    <tr style=\"text-align: right;\">\n",
       "      <th></th>\n",
       "      <th>id</th>\n",
       "      <th>filename</th>\n",
       "      <th>content</th>\n",
       "      <th>size</th>\n",
       "      <th>rounded_size_kb</th>\n",
       "      <th>last_updated</th>\n",
       "      <th>already_evaluated</th>\n",
       "      <th>gemma2-9b-it</th>\n",
       "      <th>llama-3.1-70b-versatile</th>\n",
       "      <th>llama-3.3-70b-versatile</th>\n",
       "      <th>average_score</th>\n",
       "    </tr>\n",
       "  </thead>\n",
       "  <tbody>\n",
       "    <tr>\n",
       "      <th>1550</th>\n",
       "      <td>1881</td>\n",
       "      <td>Преподавательский состав</td>\n",
       "      <td>Баранова Оксана Викторовна\\n\\n, Кандидат химич...</td>\n",
       "      <td>1329</td>\n",
       "      <td>1</td>\n",
       "      <td>12-02-2020</td>\n",
       "      <td>True</td>\n",
       "      <td>3.0</td>\n",
       "      <td>4.0</td>\n",
       "      <td>4.0</td>\n",
       "      <td>3.666667</td>\n",
       "    </tr>\n",
       "    <tr>\n",
       "      <th>2218</th>\n",
       "      <td>2642</td>\n",
       "      <td>Школьнику (pupil) _ Page 6</td>\n",
       "      <td>«… человечество действительно нуждается\\n\\nв ч...</td>\n",
       "      <td>424</td>\n",
       "      <td>0</td>\n",
       "      <td>06-05-2020</td>\n",
       "      <td>True</td>\n",
       "      <td>2.0</td>\n",
       "      <td>2.0</td>\n",
       "      <td>3.0</td>\n",
       "      <td>2.333333</td>\n",
       "    </tr>\n",
       "    <tr>\n",
       "      <th>368</th>\n",
       "      <td>419</td>\n",
       "      <td>Горр Геннадий Викторович</td>\n",
       "      <td>Горр Геннадий Викторович\\n\\nДолжность:\\n\\nпроф...</td>\n",
       "      <td>6395</td>\n",
       "      <td>6</td>\n",
       "      <td>22-10-2020</td>\n",
       "      <td>True</td>\n",
       "      <td>4.0</td>\n",
       "      <td>3.0</td>\n",
       "      <td>4.0</td>\n",
       "      <td>3.666667</td>\n",
       "    </tr>\n",
       "    <tr>\n",
       "      <th>535</th>\n",
       "      <td>600</td>\n",
       "      <td>Достижения лицеистов</td>\n",
       "      <td>Республиканский турнир юных математиков​\\n\\n\"Т...</td>\n",
       "      <td>8291</td>\n",
       "      <td>8</td>\n",
       "      <td>27-04-2020</td>\n",
       "      <td>True</td>\n",
       "      <td>3.0</td>\n",
       "      <td>2.0</td>\n",
       "      <td>2.0</td>\n",
       "      <td>2.333333</td>\n",
       "    </tr>\n",
       "    <tr>\n",
       "      <th>1659</th>\n",
       "      <td>1993</td>\n",
       "      <td>Профессорско-преподавательский состав кафедры ...</td>\n",
       "      <td>Профессорско-преподавательский состав кафедры\\...</td>\n",
       "      <td>1156</td>\n",
       "      <td>1</td>\n",
       "      <td>28-11-2019</td>\n",
       "      <td>True</td>\n",
       "      <td>3.0</td>\n",
       "      <td>4.0</td>\n",
       "      <td>3.0</td>\n",
       "      <td>3.333333</td>\n",
       "    </tr>\n",
       "    <tr>\n",
       "      <th>1487</th>\n",
       "      <td>1786</td>\n",
       "      <td>Поляков Виталий Юрьевич</td>\n",
       "      <td>Поляков Виталий Юрьевич\\n\\nДолжность:\\n\\nдоцен...</td>\n",
       "      <td>10566</td>\n",
       "      <td>10</td>\n",
       "      <td>03-06-2024</td>\n",
       "      <td>True</td>\n",
       "      <td>3.0</td>\n",
       "      <td>5.0</td>\n",
       "      <td>4.0</td>\n",
       "      <td>4.000000</td>\n",
       "    </tr>\n",
       "    <tr>\n",
       "      <th>1127</th>\n",
       "      <td>1329</td>\n",
       "      <td>Материалы конференции «Донецкие чтения» 2018</td>\n",
       "      <td>Материалы III Международной научной конференци...</td>\n",
       "      <td>1449</td>\n",
       "      <td>1</td>\n",
       "      <td>09-08-2019</td>\n",
       "      <td>True</td>\n",
       "      <td>2.0</td>\n",
       "      <td>2.0</td>\n",
       "      <td>2.0</td>\n",
       "      <td>2.000000</td>\n",
       "    </tr>\n",
       "    <tr>\n",
       "      <th>2193</th>\n",
       "      <td>2615</td>\n",
       "      <td>Чуфицкий Сергей Викторович</td>\n",
       "      <td>Чуфицкий Сергей Викторович\\n\\nДолжность:\\n\\nст...</td>\n",
       "      <td>5153</td>\n",
       "      <td>5</td>\n",
       "      <td>06-05-2019</td>\n",
       "      <td>True</td>\n",
       "      <td>3.0</td>\n",
       "      <td>4.0</td>\n",
       "      <td>4.0</td>\n",
       "      <td>3.666667</td>\n",
       "    </tr>\n",
       "    <tr>\n",
       "      <th>1535</th>\n",
       "      <td>1861</td>\n",
       "      <td>Практическая подготовка</td>\n",
       "      <td>Студенты кафедры журналистики в период обучени...</td>\n",
       "      <td>1462</td>\n",
       "      <td>1</td>\n",
       "      <td>05-12-2019</td>\n",
       "      <td>True</td>\n",
       "      <td>3.0</td>\n",
       "      <td>4.0</td>\n",
       "      <td>4.0</td>\n",
       "      <td>3.666667</td>\n",
       "    </tr>\n",
       "    <tr>\n",
       "      <th>1771</th>\n",
       "      <td>2125</td>\n",
       "      <td>Руководство университета</td>\n",
       "      <td>Ректор\\n\\nБеспалова Светлана Владимировна\\n\\nд...</td>\n",
       "      <td>2065</td>\n",
       "      <td>2</td>\n",
       "      <td>22-11-2024</td>\n",
       "      <td>True</td>\n",
       "      <td>3.0</td>\n",
       "      <td>3.0</td>\n",
       "      <td>4.0</td>\n",
       "      <td>3.333333</td>\n",
       "    </tr>\n",
       "  </tbody>\n",
       "</table>\n",
       "</div>"
      ],
      "text/plain": [
       "        id                                           filename  \\\n",
       "1550  1881                          Преподавательский состав    \n",
       "2218  2642                        Школьнику (pupil) _ Page 6    \n",
       "368    419                          Горр Геннадий Викторович    \n",
       "535    600                              Достижения лицеистов    \n",
       "1659  1993  Профессорско-преподавательский состав кафедры ...   \n",
       "1487  1786                           Поляков Виталий Юрьевич    \n",
       "1127  1329      Материалы конференции «Донецкие чтения» 2018    \n",
       "2193  2615                        Чуфицкий Сергей Викторович    \n",
       "1535  1861                           Практическая подготовка    \n",
       "1771  2125                          Руководство университета    \n",
       "\n",
       "                                                content   size  \\\n",
       "1550  Баранова Оксана Викторовна\\n\\n, Кандидат химич...   1329   \n",
       "2218  «… человечество действительно нуждается\\n\\nв ч...    424   \n",
       "368   Горр Геннадий Викторович\\n\\nДолжность:\\n\\nпроф...   6395   \n",
       "535   Республиканский турнир юных математиков​\\n\\n\"Т...   8291   \n",
       "1659  Профессорско-преподавательский состав кафедры\\...   1156   \n",
       "1487  Поляков Виталий Юрьевич\\n\\nДолжность:\\n\\nдоцен...  10566   \n",
       "1127  Материалы III Международной научной конференци...   1449   \n",
       "2193  Чуфицкий Сергей Викторович\\n\\nДолжность:\\n\\nст...   5153   \n",
       "1535  Студенты кафедры журналистики в период обучени...   1462   \n",
       "1771  Ректор\\n\\nБеспалова Светлана Владимировна\\n\\nд...   2065   \n",
       "\n",
       "      rounded_size_kb last_updated  already_evaluated  gemma2-9b-it  \\\n",
       "1550                1   12-02-2020               True           3.0   \n",
       "2218                0   06-05-2020               True           2.0   \n",
       "368                 6   22-10-2020               True           4.0   \n",
       "535                 8   27-04-2020               True           3.0   \n",
       "1659                1   28-11-2019               True           3.0   \n",
       "1487               10   03-06-2024               True           3.0   \n",
       "1127                1   09-08-2019               True           2.0   \n",
       "2193                5   06-05-2019               True           3.0   \n",
       "1535                1   05-12-2019               True           3.0   \n",
       "1771                2   22-11-2024               True           3.0   \n",
       "\n",
       "      llama-3.1-70b-versatile  llama-3.3-70b-versatile  average_score  \n",
       "1550                      4.0                      4.0       3.666667  \n",
       "2218                      2.0                      3.0       2.333333  \n",
       "368                       3.0                      4.0       3.666667  \n",
       "535                       2.0                      2.0       2.333333  \n",
       "1659                      4.0                      3.0       3.333333  \n",
       "1487                      5.0                      4.0       4.000000  \n",
       "1127                      2.0                      2.0       2.000000  \n",
       "2193                      4.0                      4.0       3.666667  \n",
       "1535                      4.0                      4.0       3.666667  \n",
       "1771                      3.0                      4.0       3.333333  "
      ]
     },
     "execution_count": 6,
     "metadata": {},
     "output_type": "execute_result"
    }
   ],
   "source": [
    "estimation_summary = pd.read_csv(data_path, index_col=0)\n",
    "estimation_summary.sample(10)"
   ]
  },
  {
   "cell_type": "markdown",
   "id": "e7fafbe7",
   "metadata": {},
   "source": [
    "Посмотрим на число обработанных файлов"
   ]
  },
  {
   "cell_type": "code",
   "execution_count": 7,
   "id": "268016d4",
   "metadata": {},
   "outputs": [
    {
     "name": "stdout",
     "output_type": "stream",
     "text": [
      "Всего было обработано файлов: 2691\n"
     ]
    }
   ],
   "source": [
    "print(f\"Всего было обработано файлов: {estimation_summary.shape[0]}\")"
   ]
  },
  {
   "cell_type": "markdown",
   "id": "5f56f3b2",
   "metadata": {},
   "source": [
    "Проверим данные на наличие пропусков"
   ]
  },
  {
   "cell_type": "code",
   "execution_count": 8,
   "id": "3c41f821",
   "metadata": {},
   "outputs": [
    {
     "data": {
      "text/plain": [
       "id                         0\n",
       "filename                   0\n",
       "content                    0\n",
       "size                       0\n",
       "rounded_size_kb            0\n",
       "last_updated               0\n",
       "already_evaluated          0\n",
       "gemma2-9b-it               0\n",
       "llama-3.1-70b-versatile    0\n",
       "llama-3.3-70b-versatile    0\n",
       "average_score              0\n",
       "dtype: int64"
      ]
     },
     "execution_count": 8,
     "metadata": {},
     "output_type": "execute_result"
    }
   ],
   "source": [
    "estimation_summary.isna().sum()"
   ]
  },
  {
   "cell_type": "markdown",
   "id": "c717789c",
   "metadata": {},
   "source": [
    "Пропущенных значений нет, значит оценка файлов с помощью LLM прошла корректно"
   ]
  },
  {
   "cell_type": "markdown",
   "id": "6cd60db9",
   "metadata": {},
   "source": [
    "Посмотрим на типы данных в датасете"
   ]
  },
  {
   "cell_type": "code",
   "execution_count": 9,
   "id": "0e6f7d97",
   "metadata": {},
   "outputs": [
    {
     "name": "stdout",
     "output_type": "stream",
     "text": [
      "<class 'pandas.core.frame.DataFrame'>\n",
      "Index: 2691 entries, 0 to 2690\n",
      "Data columns (total 11 columns):\n",
      " #   Column                   Non-Null Count  Dtype  \n",
      "---  ------                   --------------  -----  \n",
      " 0   id                       2691 non-null   int64  \n",
      " 1   filename                 2691 non-null   object \n",
      " 2   content                  2691 non-null   object \n",
      " 3   size                     2691 non-null   int64  \n",
      " 4   rounded_size_kb          2691 non-null   int64  \n",
      " 5   last_updated             2691 non-null   object \n",
      " 6   already_evaluated        2691 non-null   bool   \n",
      " 7   gemma2-9b-it             2691 non-null   float64\n",
      " 8   llama-3.1-70b-versatile  2691 non-null   float64\n",
      " 9   llama-3.3-70b-versatile  2691 non-null   float64\n",
      " 10  average_score            2691 non-null   float64\n",
      "dtypes: bool(1), float64(4), int64(3), object(3)\n",
      "memory usage: 233.9+ KB\n"
     ]
    }
   ],
   "source": [
    "estimation_summary.info()"
   ]
  },
  {
   "cell_type": "markdown",
   "id": "3869218a",
   "metadata": {},
   "source": [
    "В наборе данных содержатся как строковые, так и числовые типы данных, кроме того есть одна булевая метка, отражающая то, был ли файл действительно оценен моделями или же он просто получил высший балл за свой размер. Посмотрим на соотношение таких файлов"
   ]
  },
  {
   "cell_type": "code",
   "execution_count": 10,
   "id": "3ec52e52",
   "metadata": {},
   "outputs": [
    {
     "data": {
      "image/png": "[encoded data removed]",
      "text/plain": [
       "<Figure size 1000x1000 with 1 Axes>"
      ]
     },
     "metadata": {},
     "output_type": "display_data"
    }
   ],
   "source": [
    "plot_pie_chart(estimation_summary, column='already_evaluated', title='Соотношение фактически оцененных файлов к большим')"
   ]
  },
  {
   "cell_type": "markdown",
   "id": "c957be41",
   "metadata": {},
   "source": [
    "Как видно, файлов, которые весят больше 11кб, около 20%, остальные же были оценены LLM, что является хорошим компромиссом между вычислительными ограничениями и качественным анализом файлов"
   ]
  },
  {
   "cell_type": "markdown",
   "id": "dccd00aa",
   "metadata": {},
   "source": [
    "Разделим набор данных на фактически оцененные файлы и файлы, получившие высший балл из-за своего размера (в данном случае  превышающие 11кб)"
   ]
  },
  {
   "cell_type": "code",
   "execution_count": 11,
   "id": "a575d357",
   "metadata": {},
   "outputs": [
    {
     "name": "stdout",
     "output_type": "stream",
     "text": [
      "Число оцененных файлов: 2259\n",
      "Число больших файлов: 432\n"
     ]
    }
   ],
   "source": [
    "models_evaluated_df = estimation_summary[estimation_summary['already_evaluated']].copy()\n",
    "pre_evaluated_df = estimation_summary[~estimation_summary['already_evaluated']]\n",
    "\n",
    "print(f\"Число оцененных файлов: {models_evaluated_df.shape[0]}\")\n",
    "print(f\"Число больших файлов: {pre_evaluated_df.shape[0]}\")"
   ]
  },
  {
   "cell_type": "markdown",
   "id": "34e51040",
   "metadata": {},
   "source": [
    "Проверим состоятельность гипотезы о взаимосвязи размера файла и его оценки"
   ]
  },
  {
   "cell_type": "markdown",
   "id": "f8447ba9",
   "metadata": {},
   "source": [
    "Для этого построим матрицу корреляций оценок моделей и размера файла в килобайтах"
   ]
  },
  {
   "cell_type": "code",
   "execution_count": 12,
   "id": "25cfb485",
   "metadata": {},
   "outputs": [
    {
     "data": {
      "image/png": "[encoded data removed]",
      "text/plain": [
       "<Figure size 1000x600 with 2 Axes>"
      ]
     },
     "metadata": {},
     "output_type": "display_data"
    }
   ],
   "source": [
    "correlations = models_evaluated_df\\\n",
    "    .select_dtypes(include='number')\\\n",
    "    .drop(columns=['id', 'size'])\\\n",
    "    .corr()\n",
    "\n",
    "plt.figure(figsize=(10, 6))\n",
    "sns.heatmap(correlations, annot=True, fmt='.2f')\n",
    "plt.show()"
   ]
  },
  {
   "cell_type": "markdown",
   "id": "8783d325",
   "metadata": {},
   "source": [
    "Как видно, средняя оценка коррелирует с размером файла на 66%, что показывает наличие связи между данными показателями, причем данная корреляция является положительной. Это говорит о том, что с ростом размера файла будет расти и его оценка, а значит присвоение максимального балла файлам, превышающим некое пороговое значение по размеру оправдано"
   ]
  },
  {
   "cell_type": "markdown",
   "id": "7f53b427",
   "metadata": {},
   "source": [
    "Также можно заметить, что на среднюю оценку в большей степени влияют оценки моделей семейства `llama`, что позволяет предположить их большую приспособленность для решения задачи оценки текстов "
   ]
  },
  {
   "cell_type": "markdown",
   "id": "85979e46",
   "metadata": {},
   "source": [
    "Далее рассмотрим `реальные` оценки моделей"
   ]
  },
  {
   "cell_type": "markdown",
   "id": "40f65649",
   "metadata": {},
   "source": [
    "Выгрузим список моделей, участвовавших в оценке текстов"
   ]
  },
  {
   "cell_type": "code",
   "execution_count": 13,
   "id": "c2c80710",
   "metadata": {},
   "outputs": [
    {
     "data": {
      "text/plain": [
       "['gemma2-9b-it', 'llama-3.1-70b-versatile', 'llama-3.3-70b-versatile']"
      ]
     },
     "execution_count": 13,
     "metadata": {},
     "output_type": "execute_result"
    }
   ],
   "source": [
    "models_list_path = 'prompts/models_list.txt'\n",
    "\n",
    "with open(models_list_path, 'r') as file:\n",
    "    models = file.read().splitlines()\n",
    "    \n",
    "models"
   ]
  },
  {
   "cell_type": "markdown",
   "id": "7b227631",
   "metadata": {},
   "source": [
    "Построим гистограммы оценок каждой из них"
   ]
  },
  {
   "cell_type": "code",
   "execution_count": 14,
   "id": "f9db1baa",
   "metadata": {},
   "outputs": [
    {
     "data": {
      "image/png": "[encoded data removed]",
      "text/plain": [
       "<Figure size 1000x600 with 1 Axes>"
      ]
     },
     "metadata": {},
     "output_type": "display_data"
    },
    {
     "data": {
      "image/png": "[encoded data removed]",
      "text/plain": [
       "<Figure size 1000x600 with 1 Axes>"
      ]
     },
     "metadata": {},
     "output_type": "display_data"
    },
    {
     "data": {
      "image/png": "[encoded data removed]",
      "text/plain": [
       "<Figure size 1000x600 with 1 Axes>"
      ]
     },
     "metadata": {},
     "output_type": "display_data"
    }
   ],
   "source": [
    "plot_evaluations_histograms(data=models_evaluated_df, models=models, integers_only=True)"
   ]
  },
  {
   "cell_type": "markdown",
   "id": "c8c16c9a",
   "metadata": {},
   "source": [
    "Можно заметить, что распределения оценок моделей похожи на нормальные при смещении вправо, также интересен факт, что модель `gemma2-9b-it` ни разу не поставила оценку `5`"
   ]
  },
  {
   "cell_type": "markdown",
   "id": "349ee2b0",
   "metadata": {},
   "source": [
    "Модами распределений являются предпоследние по возрастанию оценки - `4` для моделей семейства `llama` и `3` для `gemma`, что дает право предположить о схожести суждений моделей и полноте анализа текстов, при использовании этих трех моделей"
   ]
  },
  {
   "cell_type": "markdown",
   "id": "91e9acd6",
   "metadata": {},
   "source": [
    "Также можно отметить, что модель `llama-3.3-70b-versatile` в большинстве случаев ставила четверки, в то время как `llama-3.1-70b-versatile` распределила большую часть оценок в промежутке от 3 до 5 с относительно небольшим преимуществом четверок"
   ]
  },
  {
   "cell_type": "markdown",
   "id": "0d1223f8",
   "metadata": {},
   "source": [
    "Оценим качество оценивания текстов моделями, вычислив максимальную разницу между оценками для каждого файла"
   ]
  },
  {
   "cell_type": "code",
   "execution_count": 15,
   "id": "ab5d9714",
   "metadata": {},
   "outputs": [
    {
     "data": {
      "text/html": [
       "<div>\n",
       "<style scoped>\n",
       "    .dataframe tbody tr th:only-of-type {\n",
       "        vertical-align: middle;\n",
       "    }\n",
       "\n",
       "    .dataframe tbody tr th {\n",
       "        vertical-align: top;\n",
       "    }\n",
       "\n",
       "    .dataframe thead th {\n",
       "        text-align: right;\n",
       "    }\n",
       "</style>\n",
       "<table border=\"1\" class=\"dataframe\">\n",
       "  <thead>\n",
       "    <tr style=\"text-align: right;\">\n",
       "      <th></th>\n",
       "      <th>id</th>\n",
       "      <th>filename</th>\n",
       "      <th>content</th>\n",
       "      <th>size</th>\n",
       "      <th>rounded_size_kb</th>\n",
       "      <th>last_updated</th>\n",
       "      <th>already_evaluated</th>\n",
       "      <th>gemma2-9b-it</th>\n",
       "      <th>llama-3.1-70b-versatile</th>\n",
       "      <th>llama-3.3-70b-versatile</th>\n",
       "      <th>average_score</th>\n",
       "      <th>max_difference</th>\n",
       "    </tr>\n",
       "  </thead>\n",
       "  <tbody>\n",
       "    <tr>\n",
       "      <th>151</th>\n",
       "      <td>167</td>\n",
       "      <td>Аннотации и ключевые слова</td>\n",
       "      <td>English\\n\\nАннотации и ключевые слова\\n\\n2023 ...</td>\n",
       "      <td>213</td>\n",
       "      <td>0</td>\n",
       "      <td>16-04-2024</td>\n",
       "      <td>True</td>\n",
       "      <td>1.0</td>\n",
       "      <td>1.0</td>\n",
       "      <td>2.0</td>\n",
       "      <td>1.333333</td>\n",
       "      <td>1.0</td>\n",
       "    </tr>\n",
       "    <tr>\n",
       "      <th>807</th>\n",
       "      <td>952</td>\n",
       "      <td>Кафедра биохимии и органической химии</td>\n",
       "      <td>Профессорско-преподавательский состав кафедры ...</td>\n",
       "      <td>6459</td>\n",
       "      <td>6</td>\n",
       "      <td>09-04-2019</td>\n",
       "      <td>True</td>\n",
       "      <td>3.0</td>\n",
       "      <td>4.0</td>\n",
       "      <td>4.0</td>\n",
       "      <td>3.666667</td>\n",
       "      <td>1.0</td>\n",
       "    </tr>\n",
       "    <tr>\n",
       "      <th>621</th>\n",
       "      <td>714</td>\n",
       "      <td>Информация для абитуриентов</td>\n",
       "      <td>Бакалавриат\\n\\nКод\\n\\nНаправление подготовки, ...</td>\n",
       "      <td>4414</td>\n",
       "      <td>4</td>\n",
       "      <td>25-03-2022</td>\n",
       "      <td>True</td>\n",
       "      <td>4.0</td>\n",
       "      <td>5.0</td>\n",
       "      <td>4.0</td>\n",
       "      <td>4.333333</td>\n",
       "      <td>1.0</td>\n",
       "    </tr>\n",
       "    <tr>\n",
       "      <th>966</th>\n",
       "      <td>1142</td>\n",
       "      <td>Контакты физико-технического факультета</td>\n",
       "      <td>Адрес для переписки: г. Донецк, ул.Университет...</td>\n",
       "      <td>494</td>\n",
       "      <td>0</td>\n",
       "      <td>21-05-2016</td>\n",
       "      <td>True</td>\n",
       "      <td>3.0</td>\n",
       "      <td>2.0</td>\n",
       "      <td>3.0</td>\n",
       "      <td>2.666667</td>\n",
       "      <td>1.0</td>\n",
       "    </tr>\n",
       "    <tr>\n",
       "      <th>1202</th>\n",
       "      <td>1429</td>\n",
       "      <td>Направления подготовки</td>\n",
       "      <td>Кафедра теории и истории государства и права\\n...</td>\n",
       "      <td>654</td>\n",
       "      <td>1</td>\n",
       "      <td>13-01-2020</td>\n",
       "      <td>True</td>\n",
       "      <td>3.0</td>\n",
       "      <td>3.0</td>\n",
       "      <td>4.0</td>\n",
       "      <td>3.333333</td>\n",
       "      <td>1.0</td>\n",
       "    </tr>\n",
       "    <tr>\n",
       "      <th>1744</th>\n",
       "      <td>2094</td>\n",
       "      <td>Рецензирование статей</td>\n",
       "      <td>English\\n\\nПОРЯДОК РЕЦЕНЗИРОВАНИЯ РУКОПИСЕЙ НА...</td>\n",
       "      <td>4616</td>\n",
       "      <td>5</td>\n",
       "      <td>07-11-2023</td>\n",
       "      <td>True</td>\n",
       "      <td>3.0</td>\n",
       "      <td>4.0</td>\n",
       "      <td>4.0</td>\n",
       "      <td>3.666667</td>\n",
       "      <td>1.0</td>\n",
       "    </tr>\n",
       "    <tr>\n",
       "      <th>555</th>\n",
       "      <td>625</td>\n",
       "      <td>Емельянова Наталия Николаевна</td>\n",
       "      <td>Емельянова Наталия Николаевна\\n\\nДолжность:\\n\\...</td>\n",
       "      <td>4692</td>\n",
       "      <td>5</td>\n",
       "      <td>16-11-2020</td>\n",
       "      <td>True</td>\n",
       "      <td>3.0</td>\n",
       "      <td>5.0</td>\n",
       "      <td>4.0</td>\n",
       "      <td>4.000000</td>\n",
       "      <td>2.0</td>\n",
       "    </tr>\n",
       "    <tr>\n",
       "      <th>851</th>\n",
       "      <td>1005</td>\n",
       "      <td>Кафедра романской филологии</td>\n",
       "      <td>КАФЕДРА РОМАНСКОЙ ФИЛОЛОГИИ\\n\\nКафедра романск...</td>\n",
       "      <td>4851</td>\n",
       "      <td>5</td>\n",
       "      <td>20-09-2023</td>\n",
       "      <td>True</td>\n",
       "      <td>4.0</td>\n",
       "      <td>4.0</td>\n",
       "      <td>4.0</td>\n",
       "      <td>4.000000</td>\n",
       "      <td>0.0</td>\n",
       "    </tr>\n",
       "    <tr>\n",
       "      <th>1533</th>\n",
       "      <td>1859</td>\n",
       "      <td>Практическая подготовка</td>\n",
       "      <td>Практика является базовой частью основной обра...</td>\n",
       "      <td>11041</td>\n",
       "      <td>11</td>\n",
       "      <td>26-05-2018</td>\n",
       "      <td>True</td>\n",
       "      <td>3.0</td>\n",
       "      <td>5.0</td>\n",
       "      <td>4.0</td>\n",
       "      <td>4.000000</td>\n",
       "      <td>2.0</td>\n",
       "    </tr>\n",
       "    <tr>\n",
       "      <th>1281</th>\n",
       "      <td>1538</td>\n",
       "      <td>Научная деятельность физико-технического факул...</td>\n",
       "      <td>К числу основных научных направлений, разрабат...</td>\n",
       "      <td>5419</td>\n",
       "      <td>5</td>\n",
       "      <td>28-04-2017</td>\n",
       "      <td>True</td>\n",
       "      <td>4.0</td>\n",
       "      <td>4.0</td>\n",
       "      <td>4.0</td>\n",
       "      <td>4.000000</td>\n",
       "      <td>0.0</td>\n",
       "    </tr>\n",
       "  </tbody>\n",
       "</table>\n",
       "</div>"
      ],
      "text/plain": [
       "        id                                           filename  \\\n",
       "151    167                        Аннотации и ключевые слова    \n",
       "807    952             Кафедра биохимии и органической химии    \n",
       "621    714                       Информация для абитуриентов    \n",
       "966   1142           Контакты физико-технического факультета    \n",
       "1202  1429                            Направления подготовки    \n",
       "1744  2094                             Рецензирование статей    \n",
       "555    625                     Емельянова Наталия Николаевна    \n",
       "851   1005                       Кафедра романской филологии    \n",
       "1533  1859                           Практическая подготовка    \n",
       "1281  1538  Научная деятельность физико-технического факул...   \n",
       "\n",
       "                                                content   size  \\\n",
       "151   English\\n\\nАннотации и ключевые слова\\n\\n2023 ...    213   \n",
       "807   Профессорско-преподавательский состав кафедры ...   6459   \n",
       "621   Бакалавриат\\n\\nКод\\n\\nНаправление подготовки, ...   4414   \n",
       "966   Адрес для переписки: г. Донецк, ул.Университет...    494   \n",
       "1202  Кафедра теории и истории государства и права\\n...    654   \n",
       "1744  English\\n\\nПОРЯДОК РЕЦЕНЗИРОВАНИЯ РУКОПИСЕЙ НА...   4616   \n",
       "555   Емельянова Наталия Николаевна\\n\\nДолжность:\\n\\...   4692   \n",
       "851   КАФЕДРА РОМАНСКОЙ ФИЛОЛОГИИ\\n\\nКафедра романск...   4851   \n",
       "1533  Практика является базовой частью основной обра...  11041   \n",
       "1281  К числу основных научных направлений, разрабат...   5419   \n",
       "\n",
       "      rounded_size_kb last_updated  already_evaluated  gemma2-9b-it  \\\n",
       "151                 0   16-04-2024               True           1.0   \n",
       "807                 6   09-04-2019               True           3.0   \n",
       "621                 4   25-03-2022               True           4.0   \n",
       "966                 0   21-05-2016               True           3.0   \n",
       "1202                1   13-01-2020               True           3.0   \n",
       "1744                5   07-11-2023               True           3.0   \n",
       "555                 5   16-11-2020               True           3.0   \n",
       "851                 5   20-09-2023               True           4.0   \n",
       "1533               11   26-05-2018               True           3.0   \n",
       "1281                5   28-04-2017               True           4.0   \n",
       "\n",
       "      llama-3.1-70b-versatile  llama-3.3-70b-versatile  average_score  \\\n",
       "151                       1.0                      2.0       1.333333   \n",
       "807                       4.0                      4.0       3.666667   \n",
       "621                       5.0                      4.0       4.333333   \n",
       "966                       2.0                      3.0       2.666667   \n",
       "1202                      3.0                      4.0       3.333333   \n",
       "1744                      4.0                      4.0       3.666667   \n",
       "555                       5.0                      4.0       4.000000   \n",
       "851                       4.0                      4.0       4.000000   \n",
       "1533                      5.0                      4.0       4.000000   \n",
       "1281                      4.0                      4.0       4.000000   \n",
       "\n",
       "      max_difference  \n",
       "151              1.0  \n",
       "807              1.0  \n",
       "621              1.0  \n",
       "966              1.0  \n",
       "1202             1.0  \n",
       "1744             1.0  \n",
       "555              2.0  \n",
       "851              0.0  \n",
       "1533             2.0  \n",
       "1281             0.0  "
      ]
     },
     "execution_count": 15,
     "metadata": {},
     "output_type": "execute_result"
    }
   ],
   "source": [
    "models_evaluated_df['max_difference'] = abs(models_evaluated_df[models].max(axis=1) - models_evaluated_df[models].min(axis=1))\n",
    "models_evaluated_df.sample(10)"
   ]
  },
  {
   "cell_type": "markdown",
   "id": "069c1bd3",
   "metadata": {},
   "source": [
    "Посмотрим, какие разницы в оценках моделей встречаются в наборе данных"
   ]
  },
  {
   "cell_type": "code",
   "execution_count": 16,
   "id": "ac0baf0a",
   "metadata": {},
   "outputs": [
    {
     "data": {
      "text/plain": [
       "max_difference\n",
       "1.0    1476\n",
       "0.0     400\n",
       "2.0     369\n",
       "3.0      14\n",
       "Name: count, dtype: int64"
      ]
     },
     "execution_count": 16,
     "metadata": {},
     "output_type": "execute_result"
    }
   ],
   "source": [
    "models_evaluated_df.max_difference.value_counts()"
   ]
  },
  {
   "cell_type": "markdown",
   "id": "190f36b3",
   "metadata": {},
   "source": [
    "Большая часть файлов имеет разницу в оценках, равную одному баллу, что нормально. Максимальный разброс составляет 3 балла, это вызывает определенный интерес, однако таких файлов всего `14` шт. Посмотрим на них"
   ]
  },
  {
   "cell_type": "code",
   "execution_count": 17,
   "id": "12246751",
   "metadata": {},
   "outputs": [
    {
     "data": {
      "text/html": [
       "<div>\n",
       "<style scoped>\n",
       "    .dataframe tbody tr th:only-of-type {\n",
       "        vertical-align: middle;\n",
       "    }\n",
       "\n",
       "    .dataframe tbody tr th {\n",
       "        vertical-align: top;\n",
       "    }\n",
       "\n",
       "    .dataframe thead th {\n",
       "        text-align: right;\n",
       "    }\n",
       "</style>\n",
       "<table border=\"1\" class=\"dataframe\">\n",
       "  <thead>\n",
       "    <tr style=\"text-align: right;\">\n",
       "      <th></th>\n",
       "      <th>id</th>\n",
       "      <th>filename</th>\n",
       "      <th>content</th>\n",
       "      <th>size</th>\n",
       "      <th>rounded_size_kb</th>\n",
       "      <th>last_updated</th>\n",
       "      <th>already_evaluated</th>\n",
       "      <th>gemma2-9b-it</th>\n",
       "      <th>llama-3.1-70b-versatile</th>\n",
       "      <th>llama-3.3-70b-versatile</th>\n",
       "      <th>average_score</th>\n",
       "      <th>max_difference</th>\n",
       "    </tr>\n",
       "  </thead>\n",
       "  <tbody>\n",
       "    <tr>\n",
       "      <th>24</th>\n",
       "      <td>26</td>\n",
       "      <td>Rules for authors</td>\n",
       "      <td>Русский\\n\\nRULES FOR AUTHORS\\n\\n1. The scienti...</td>\n",
       "      <td>5107</td>\n",
       "      <td>5</td>\n",
       "      <td>18-10-2024</td>\n",
       "      <td>True</td>\n",
       "      <td>2.0</td>\n",
       "      <td>5.0</td>\n",
       "      <td>4.0</td>\n",
       "      <td>3.666667</td>\n",
       "      <td>3.0</td>\n",
       "    </tr>\n",
       "    <tr>\n",
       "      <th>61</th>\n",
       "      <td>65</td>\n",
       "      <td>ud _ Page 32</td>\n",
       "      <td>Карпенко Евгения Николаевна\\n\\nДолжность:\\n\\nп...</td>\n",
       "      <td>3746</td>\n",
       "      <td>4</td>\n",
       "      <td>31-03-2019</td>\n",
       "      <td>True</td>\n",
       "      <td>3.0</td>\n",
       "      <td>5.0</td>\n",
       "      <td>2.0</td>\n",
       "      <td>3.333333</td>\n",
       "      <td>3.0</td>\n",
       "    </tr>\n",
       "    <tr>\n",
       "      <th>240</th>\n",
       "      <td>268</td>\n",
       "      <td>Борисов Дмитрий Анатольевич</td>\n",
       "      <td>Борисов Дмитрий Анатольевич\\n\\nДолжность:\\n\\nп...</td>\n",
       "      <td>4722</td>\n",
       "      <td>5</td>\n",
       "      <td>23-04-2019</td>\n",
       "      <td>True</td>\n",
       "      <td>3.0</td>\n",
       "      <td>1.0</td>\n",
       "      <td>4.0</td>\n",
       "      <td>2.666667</td>\n",
       "      <td>3.0</td>\n",
       "    </tr>\n",
       "    <tr>\n",
       "      <th>931</th>\n",
       "      <td>1107</td>\n",
       "      <td>Контакты</td>\n",
       "      <td>Директор ЦЭР\\n\\nНиколаев Юрий Борисович\\n\\niu....</td>\n",
       "      <td>316</td>\n",
       "      <td>0</td>\n",
       "      <td>18-09-2024</td>\n",
       "      <td>True</td>\n",
       "      <td>2.0</td>\n",
       "      <td>5.0</td>\n",
       "      <td>4.0</td>\n",
       "      <td>3.666667</td>\n",
       "      <td>3.0</td>\n",
       "    </tr>\n",
       "    <tr>\n",
       "      <th>941</th>\n",
       "      <td>1117</td>\n",
       "      <td>Контакты</td>\n",
       "      <td>Директор ЦЭР\\n\\nНиколаев Юрий Борисович\\n\\niu....</td>\n",
       "      <td>316</td>\n",
       "      <td>0</td>\n",
       "      <td>18-09-2024</td>\n",
       "      <td>True</td>\n",
       "      <td>2.0</td>\n",
       "      <td>5.0</td>\n",
       "      <td>4.0</td>\n",
       "      <td>3.666667</td>\n",
       "      <td>3.0</td>\n",
       "    </tr>\n",
       "    <tr>\n",
       "      <th>1358</th>\n",
       "      <td>1624</td>\n",
       "      <td>Образование _ Сведения об образовательной орга...</td>\n",
       "      <td>Информация о сроке действия государственной ак...</td>\n",
       "      <td>1648</td>\n",
       "      <td>2</td>\n",
       "      <td>18-09-2024</td>\n",
       "      <td>True</td>\n",
       "      <td>3.0</td>\n",
       "      <td>1.0</td>\n",
       "      <td>4.0</td>\n",
       "      <td>2.666667</td>\n",
       "      <td>3.0</td>\n",
       "    </tr>\n",
       "    <tr>\n",
       "      <th>1510</th>\n",
       "      <td>1813</td>\n",
       "      <td>Правила для авторов</td>\n",
       "      <td>English\\n\\nПРАВИЛА ДЛЯ АВТОРОВ\\n\\nВ сборник пр...</td>\n",
       "      <td>7879</td>\n",
       "      <td>8</td>\n",
       "      <td>05-07-2024</td>\n",
       "      <td>True</td>\n",
       "      <td>2.0</td>\n",
       "      <td>5.0</td>\n",
       "      <td>4.0</td>\n",
       "      <td>3.666667</td>\n",
       "      <td>3.0</td>\n",
       "    </tr>\n",
       "    <tr>\n",
       "      <th>1906</th>\n",
       "      <td>2293</td>\n",
       "      <td>Студенческое научное общество</td>\n",
       "      <td>Студенческое научное общество (СНО)\\n\\n– это о...</td>\n",
       "      <td>5368</td>\n",
       "      <td>5</td>\n",
       "      <td>18-04-2018</td>\n",
       "      <td>True</td>\n",
       "      <td>4.0</td>\n",
       "      <td>1.0</td>\n",
       "      <td>2.0</td>\n",
       "      <td>2.333333</td>\n",
       "      <td>3.0</td>\n",
       "    </tr>\n",
       "    <tr>\n",
       "      <th>1967</th>\n",
       "      <td>2372</td>\n",
       "      <td>Учебная деятельность</td>\n",
       "      <td>ФИО преподавателя\\n\\nДолжность\\n\\nСсылка на эл...</td>\n",
       "      <td>2958</td>\n",
       "      <td>3</td>\n",
       "      <td>16-10-2024</td>\n",
       "      <td>True</td>\n",
       "      <td>3.0</td>\n",
       "      <td>1.0</td>\n",
       "      <td>4.0</td>\n",
       "      <td>2.666667</td>\n",
       "      <td>3.0</td>\n",
       "    </tr>\n",
       "    <tr>\n",
       "      <th>1981</th>\n",
       "      <td>2387</td>\n",
       "      <td>Учебная деятельность</td>\n",
       "      <td>ГРАФИК\\n\\nучебного процесса очной формы обучен...</td>\n",
       "      <td>6446</td>\n",
       "      <td>6</td>\n",
       "      <td>08-10-2024</td>\n",
       "      <td>True</td>\n",
       "      <td>2.0</td>\n",
       "      <td>4.0</td>\n",
       "      <td>5.0</td>\n",
       "      <td>3.666667</td>\n",
       "      <td>3.0</td>\n",
       "    </tr>\n",
       "    <tr>\n",
       "      <th>1986</th>\n",
       "      <td>2392</td>\n",
       "      <td>Учебная деятельность</td>\n",
       "      <td>ФИО преподавателя\\n\\nДолжность\\n\\nСсылка на эл...</td>\n",
       "      <td>2153</td>\n",
       "      <td>2</td>\n",
       "      <td>03-12-2024</td>\n",
       "      <td>True</td>\n",
       "      <td>2.0</td>\n",
       "      <td>1.0</td>\n",
       "      <td>4.0</td>\n",
       "      <td>2.333333</td>\n",
       "      <td>3.0</td>\n",
       "    </tr>\n",
       "    <tr>\n",
       "      <th>1989</th>\n",
       "      <td>2395</td>\n",
       "      <td>Учебная деятельность</td>\n",
       "      <td>ГРАФИК\\n\\nучебного процесса очной формы обучен...</td>\n",
       "      <td>6039</td>\n",
       "      <td>6</td>\n",
       "      <td>08-10-2024</td>\n",
       "      <td>True</td>\n",
       "      <td>2.0</td>\n",
       "      <td>5.0</td>\n",
       "      <td>4.0</td>\n",
       "      <td>3.666667</td>\n",
       "      <td>3.0</td>\n",
       "    </tr>\n",
       "    <tr>\n",
       "      <th>2038</th>\n",
       "      <td>2446</td>\n",
       "      <td>Учебные документы кафедры компьютерных техноло...</td>\n",
       "      <td>Основная профессиональная образовательная прог...</td>\n",
       "      <td>7973</td>\n",
       "      <td>8</td>\n",
       "      <td>30-10-2024</td>\n",
       "      <td>True</td>\n",
       "      <td>2.0</td>\n",
       "      <td>5.0</td>\n",
       "      <td>4.0</td>\n",
       "      <td>3.666667</td>\n",
       "      <td>3.0</td>\n",
       "    </tr>\n",
       "    <tr>\n",
       "      <th>2216</th>\n",
       "      <td>2640</td>\n",
       "      <td>Школьнику (pupil) _ Page 4</td>\n",
       "      <td>Школы юных, кружки и образовательные курсы для...</td>\n",
       "      <td>487</td>\n",
       "      <td>0</td>\n",
       "      <td>22-05-2020</td>\n",
       "      <td>True</td>\n",
       "      <td>3.0</td>\n",
       "      <td>1.0</td>\n",
       "      <td>4.0</td>\n",
       "      <td>2.666667</td>\n",
       "      <td>3.0</td>\n",
       "    </tr>\n",
       "  </tbody>\n",
       "</table>\n",
       "</div>"
      ],
      "text/plain": [
       "        id                                           filename  \\\n",
       "24      26                                 Rules for authors    \n",
       "61      65                                      ud _ Page 32    \n",
       "240    268                       Борисов Дмитрий Анатольевич    \n",
       "931   1107                                          Контакты    \n",
       "941   1117                                          Контакты    \n",
       "1358  1624  Образование _ Сведения об образовательной орга...   \n",
       "1510  1813                               Правила для авторов    \n",
       "1906  2293                     Студенческое научное общество    \n",
       "1967  2372                              Учебная деятельность    \n",
       "1981  2387                              Учебная деятельность    \n",
       "1986  2392                              Учебная деятельность    \n",
       "1989  2395                              Учебная деятельность    \n",
       "2038  2446  Учебные документы кафедры компьютерных техноло...   \n",
       "2216  2640                        Школьнику (pupil) _ Page 4    \n",
       "\n",
       "                                                content  size  \\\n",
       "24    Русский\\n\\nRULES FOR AUTHORS\\n\\n1. The scienti...  5107   \n",
       "61    Карпенко Евгения Николаевна\\n\\nДолжность:\\n\\nп...  3746   \n",
       "240   Борисов Дмитрий Анатольевич\\n\\nДолжность:\\n\\nп...  4722   \n",
       "931   Директор ЦЭР\\n\\nНиколаев Юрий Борисович\\n\\niu....   316   \n",
       "941   Директор ЦЭР\\n\\nНиколаев Юрий Борисович\\n\\niu....   316   \n",
       "1358  Информация о сроке действия государственной ак...  1648   \n",
       "1510  English\\n\\nПРАВИЛА ДЛЯ АВТОРОВ\\n\\nВ сборник пр...  7879   \n",
       "1906  Студенческое научное общество (СНО)\\n\\n– это о...  5368   \n",
       "1967  ФИО преподавателя\\n\\nДолжность\\n\\nСсылка на эл...  2958   \n",
       "1981  ГРАФИК\\n\\nучебного процесса очной формы обучен...  6446   \n",
       "1986  ФИО преподавателя\\n\\nДолжность\\n\\nСсылка на эл...  2153   \n",
       "1989  ГРАФИК\\n\\nучебного процесса очной формы обучен...  6039   \n",
       "2038  Основная профессиональная образовательная прог...  7973   \n",
       "2216  Школы юных, кружки и образовательные курсы для...   487   \n",
       "\n",
       "      rounded_size_kb last_updated  already_evaluated  gemma2-9b-it  \\\n",
       "24                  5   18-10-2024               True           2.0   \n",
       "61                  4   31-03-2019               True           3.0   \n",
       "240                 5   23-04-2019               True           3.0   \n",
       "931                 0   18-09-2024               True           2.0   \n",
       "941                 0   18-09-2024               True           2.0   \n",
       "1358                2   18-09-2024               True           3.0   \n",
       "1510                8   05-07-2024               True           2.0   \n",
       "1906                5   18-04-2018               True           4.0   \n",
       "1967                3   16-10-2024               True           3.0   \n",
       "1981                6   08-10-2024               True           2.0   \n",
       "1986                2   03-12-2024               True           2.0   \n",
       "1989                6   08-10-2024               True           2.0   \n",
       "2038                8   30-10-2024               True           2.0   \n",
       "2216                0   22-05-2020               True           3.0   \n",
       "\n",
       "      llama-3.1-70b-versatile  llama-3.3-70b-versatile  average_score  \\\n",
       "24                        5.0                      4.0       3.666667   \n",
       "61                        5.0                      2.0       3.333333   \n",
       "240                       1.0                      4.0       2.666667   \n",
       "931                       5.0                      4.0       3.666667   \n",
       "941                       5.0                      4.0       3.666667   \n",
       "1358                      1.0                      4.0       2.666667   \n",
       "1510                      5.0                      4.0       3.666667   \n",
       "1906                      1.0                      2.0       2.333333   \n",
       "1967                      1.0                      4.0       2.666667   \n",
       "1981                      4.0                      5.0       3.666667   \n",
       "1986                      1.0                      4.0       2.333333   \n",
       "1989                      5.0                      4.0       3.666667   \n",
       "2038                      5.0                      4.0       3.666667   \n",
       "2216                      1.0                      4.0       2.666667   \n",
       "\n",
       "      max_difference  \n",
       "24               3.0  \n",
       "61               3.0  \n",
       "240              3.0  \n",
       "931              3.0  \n",
       "941              3.0  \n",
       "1358             3.0  \n",
       "1510             3.0  \n",
       "1906             3.0  \n",
       "1967             3.0  \n",
       "1981             3.0  \n",
       "1986             3.0  \n",
       "1989             3.0  \n",
       "2038             3.0  \n",
       "2216             3.0  "
      ]
     },
     "execution_count": 17,
     "metadata": {},
     "output_type": "execute_result"
    }
   ],
   "source": [
    "models_evaluated_df[models_evaluated_df.max_difference == 3]"
   ]
  },
  {
   "cell_type": "markdown",
   "id": "bb0d2353",
   "metadata": {},
   "source": [
    "Средние оценки файлов лежат в диапазоне от 2 до 4, наибольшие разбросы в оценки приносят модели `gemma2-9b-it` и `llama-3.1-70b-versatile`, что позволяет предоположить что модель `llama-3.3-70b-versatile` является наиболее устойчивой для решения задачи оценки текстов"
   ]
  },
  {
   "cell_type": "markdown",
   "id": "cc7a3cea",
   "metadata": {},
   "source": [
    "После просмотра содержимого \"спорных\" файлов вручную можно убедиться что в целом все они (даже файлы с наименьшей средней оценкой, равной `2.33`) подходят для генерации инструкций, поэтому исключать их не будем"
   ]
  },
  {
   "cell_type": "markdown",
   "id": "eaf4e300",
   "metadata": {},
   "source": [
    "## Исключение \"нерелевантных\" файлов из последующего исследования"
   ]
  },
  {
   "cell_type": "markdown",
   "id": "7ad8f7bc",
   "metadata": {},
   "source": [
    "Построим гистограмму распределения средних оценок файлов"
   ]
  },
  {
   "cell_type": "code",
   "execution_count": 18,
   "id": "84884b3c",
   "metadata": {},
   "outputs": [
    {
     "data": {
      "image/png": "[encoded data removed]",
      "text/plain": [
       "<Figure size 1000x600 with 1 Axes>"
      ]
     },
     "metadata": {},
     "output_type": "display_data"
    }
   ],
   "source": [
    "plt.figure(figsize=(10, 6))\n",
    "sns.histplot(estimation_summary['average_score'], color=\"blue\", edgecolor=\"black\", alpha=0.7)\n",
    "plt.title(f\"Средние оценкки\", fontsize=16, fontweight='bold')\n",
    "plt.xlabel(\"Оценка\", fontsize=14)\n",
    "plt.ylabel(\"Частота\", fontsize=14)\n",
    "plt.grid(axis='y', linestyle='--', alpha=0.7)\n",
    "plt.tight_layout()\n",
    "plt.show()"
   ]
  },
  {
   "cell_type": "markdown",
   "id": "74e41140",
   "metadata": {},
   "source": [
    "Как видно, большая часть оценок сосредоточена в промежутке от 3 до 5, что говорит об удовлетворительном качестве выгруженных файлов в контексте построения instruction dataset и дообучения LLM интеллектуального ассистента"
   ]
  },
  {
   "cell_type": "markdown",
   "id": "025fd486",
   "metadata": {},
   "source": [
    "Посмотрим на средние оценки в табличном представлении"
   ]
  },
  {
   "cell_type": "code",
   "execution_count": 19,
   "id": "28203ac3",
   "metadata": {},
   "outputs": [
    {
     "data": {
      "text/html": [
       "<div>\n",
       "<style scoped>\n",
       "    .dataframe tbody tr th:only-of-type {\n",
       "        vertical-align: middle;\n",
       "    }\n",
       "\n",
       "    .dataframe tbody tr th {\n",
       "        vertical-align: top;\n",
       "    }\n",
       "\n",
       "    .dataframe thead th {\n",
       "        text-align: right;\n",
       "    }\n",
       "</style>\n",
       "<table border=\"1\" class=\"dataframe\">\n",
       "  <thead>\n",
       "    <tr style=\"text-align: right;\">\n",
       "      <th></th>\n",
       "      <th>count</th>\n",
       "      <th>cummulative count</th>\n",
       "    </tr>\n",
       "    <tr>\n",
       "      <th>average_score</th>\n",
       "      <th></th>\n",
       "      <th></th>\n",
       "    </tr>\n",
       "  </thead>\n",
       "  <tbody>\n",
       "    <tr>\n",
       "      <th>5.000000</th>\n",
       "      <td>432</td>\n",
       "      <td>432</td>\n",
       "    </tr>\n",
       "    <tr>\n",
       "      <th>4.666667</th>\n",
       "      <td>82</td>\n",
       "      <td>514</td>\n",
       "    </tr>\n",
       "    <tr>\n",
       "      <th>4.333333</th>\n",
       "      <td>257</td>\n",
       "      <td>771</td>\n",
       "    </tr>\n",
       "    <tr>\n",
       "      <th>4.000000</th>\n",
       "      <td>354</td>\n",
       "      <td>1125</td>\n",
       "    </tr>\n",
       "    <tr>\n",
       "      <th>3.666667</th>\n",
       "      <td>482</td>\n",
       "      <td>1607</td>\n",
       "    </tr>\n",
       "    <tr>\n",
       "      <th>3.333333</th>\n",
       "      <td>349</td>\n",
       "      <td>1956</td>\n",
       "    </tr>\n",
       "    <tr>\n",
       "      <th>3.000000</th>\n",
       "      <td>153</td>\n",
       "      <td>2109</td>\n",
       "    </tr>\n",
       "    <tr>\n",
       "      <th>2.666667</th>\n",
       "      <td>113</td>\n",
       "      <td>2222</td>\n",
       "    </tr>\n",
       "    <tr>\n",
       "      <th>2.333333</th>\n",
       "      <td>115</td>\n",
       "      <td>2337</td>\n",
       "    </tr>\n",
       "    <tr>\n",
       "      <th>2.000000</th>\n",
       "      <td>132</td>\n",
       "      <td>2469</td>\n",
       "    </tr>\n",
       "    <tr>\n",
       "      <th>1.666667</th>\n",
       "      <td>100</td>\n",
       "      <td>2569</td>\n",
       "    </tr>\n",
       "    <tr>\n",
       "      <th>1.333333</th>\n",
       "      <td>98</td>\n",
       "      <td>2667</td>\n",
       "    </tr>\n",
       "    <tr>\n",
       "      <th>1.000000</th>\n",
       "      <td>24</td>\n",
       "      <td>2691</td>\n",
       "    </tr>\n",
       "  </tbody>\n",
       "</table>\n",
       "</div>"
      ],
      "text/plain": [
       "               count  cummulative count\n",
       "average_score                          \n",
       "5.000000         432                432\n",
       "4.666667          82                514\n",
       "4.333333         257                771\n",
       "4.000000         354               1125\n",
       "3.666667         482               1607\n",
       "3.333333         349               1956\n",
       "3.000000         153               2109\n",
       "2.666667         113               2222\n",
       "2.333333         115               2337\n",
       "2.000000         132               2469\n",
       "1.666667         100               2569\n",
       "1.333333          98               2667\n",
       "1.000000          24               2691"
      ]
     },
     "execution_count": 19,
     "metadata": {},
     "output_type": "execute_result"
    }
   ],
   "source": [
    "scores_counts = estimation_summary.average_score.value_counts().to_frame().sort_values(by='average_score', ascending=False)\n",
    "scores_counts['cummulative count'] = scores_counts.cumsum()\n",
    "scores_counts"
   ]
  },
  {
   "cell_type": "markdown",
   "id": "61c88e3a",
   "metadata": {},
   "source": [
    "Мы добавили колонку `cummulative count`, чтобы отобразить, сколько файлов будет отправлено для построения instruction dataset в случае отсечения файлов со средней оценкой ниже заданной"
   ]
  },
  {
   "cell_type": "markdown",
   "id": "014b3c77",
   "metadata": {},
   "source": [
    "Так, если мы исключим файлы с оценкой `2.0` и ниже, то у нас останется `2337` файлов, что может быть достаточно для построения instruction dataset, пригодного к использованию для дообучения LLM интеллектуального ассистента"
   ]
  },
  {
   "cell_type": "markdown",
   "id": "395be5f7",
   "metadata": {},
   "source": [
    "Выбор такой пороговой оценки обусловлен и тем фактом, что при рассмотрении \"спорных файлов\" файлы, имеющие оценку `2.33` являются вполне пригодными для генерации инструкций, кроме того средняя оценка свыше `2.0` говорит о том, что как минимум одна LLM оценила данный файл меткой `3.0` или выше, что говорит о пригодности файла для создания instruction dataset"
   ]
  },
  {
   "cell_type": "markdown",
   "id": "f5e7dc7a",
   "metadata": {},
   "source": [
    "Выделим из набора данных файлы, чья средняя оценка превышает `2.0`"
   ]
  },
  {
   "cell_type": "code",
   "execution_count": 20,
   "id": "3eae0347",
   "metadata": {},
   "outputs": [
    {
     "data": {
      "text/html": [
       "<div>\n",
       "<style scoped>\n",
       "    .dataframe tbody tr th:only-of-type {\n",
       "        vertical-align: middle;\n",
       "    }\n",
       "\n",
       "    .dataframe tbody tr th {\n",
       "        vertical-align: top;\n",
       "    }\n",
       "\n",
       "    .dataframe thead th {\n",
       "        text-align: right;\n",
       "    }\n",
       "</style>\n",
       "<table border=\"1\" class=\"dataframe\">\n",
       "  <thead>\n",
       "    <tr style=\"text-align: right;\">\n",
       "      <th></th>\n",
       "      <th>id</th>\n",
       "      <th>filename</th>\n",
       "      <th>content</th>\n",
       "      <th>size</th>\n",
       "      <th>rounded_size_kb</th>\n",
       "      <th>last_updated</th>\n",
       "      <th>already_evaluated</th>\n",
       "      <th>gemma2-9b-it</th>\n",
       "      <th>llama-3.1-70b-versatile</th>\n",
       "      <th>llama-3.3-70b-versatile</th>\n",
       "      <th>average_score</th>\n",
       "    </tr>\n",
       "  </thead>\n",
       "  <tbody>\n",
       "    <tr>\n",
       "      <th>191</th>\n",
       "      <td>210</td>\n",
       "      <td>Балакирева Елизавета Анатольевна</td>\n",
       "      <td>Балакирева Елизавета Анатольевна\\n\\nДолжность:...</td>\n",
       "      <td>8254</td>\n",
       "      <td>8</td>\n",
       "      <td>17-01-2022</td>\n",
       "      <td>True</td>\n",
       "      <td>4.0</td>\n",
       "      <td>4.0</td>\n",
       "      <td>4.0</td>\n",
       "      <td>4.000000</td>\n",
       "    </tr>\n",
       "    <tr>\n",
       "      <th>1262</th>\n",
       "      <td>1510</td>\n",
       "      <td>Научная деятельность</td>\n",
       "      <td>Научная деятельность кафедры английского языка...</td>\n",
       "      <td>7218</td>\n",
       "      <td>7</td>\n",
       "      <td>12-11-2024</td>\n",
       "      <td>True</td>\n",
       "      <td>4.0</td>\n",
       "      <td>4.0</td>\n",
       "      <td>4.0</td>\n",
       "      <td>4.000000</td>\n",
       "    </tr>\n",
       "    <tr>\n",
       "      <th>2265</th>\n",
       "      <td>114</td>\n",
       "      <td>«Историческая память о Великой Победе как осно...</td>\n",
       "      <td>МАТЕРИАЛЫ\\n\\nМеждународной научно-практической...</td>\n",
       "      <td>32527</td>\n",
       "      <td>32</td>\n",
       "      <td>04-06-2021</td>\n",
       "      <td>False</td>\n",
       "      <td>5.0</td>\n",
       "      <td>5.0</td>\n",
       "      <td>5.0</td>\n",
       "      <td>5.000000</td>\n",
       "    </tr>\n",
       "    <tr>\n",
       "      <th>883</th>\n",
       "      <td>1044</td>\n",
       "      <td>Квашина Людмила Павловна</td>\n",
       "      <td>Квашина Людмила Павловна\\n\\nДолжность:\\n\\nДоце...</td>\n",
       "      <td>8511</td>\n",
       "      <td>8</td>\n",
       "      <td>23-04-2024</td>\n",
       "      <td>True</td>\n",
       "      <td>4.0</td>\n",
       "      <td>4.0</td>\n",
       "      <td>5.0</td>\n",
       "      <td>4.333333</td>\n",
       "    </tr>\n",
       "    <tr>\n",
       "      <th>2239</th>\n",
       "      <td>2665</td>\n",
       "      <td>Электронно-библиотечная система</td>\n",
       "      <td>Электронно-библиотечная система\\n\\nБД\\n\\nОписа...</td>\n",
       "      <td>8815</td>\n",
       "      <td>9</td>\n",
       "      <td>13-10-2024</td>\n",
       "      <td>True</td>\n",
       "      <td>3.0</td>\n",
       "      <td>4.0</td>\n",
       "      <td>4.0</td>\n",
       "      <td>3.666667</td>\n",
       "    </tr>\n",
       "    <tr>\n",
       "      <th>1129</th>\n",
       "      <td>1331</td>\n",
       "      <td>Материалы форума</td>\n",
       "      <td>Том 1: Механико-математические, компьютерные и...</td>\n",
       "      <td>1314</td>\n",
       "      <td>1</td>\n",
       "      <td>30-06-2022</td>\n",
       "      <td>True</td>\n",
       "      <td>2.0</td>\n",
       "      <td>3.0</td>\n",
       "      <td>3.0</td>\n",
       "      <td>2.666667</td>\n",
       "    </tr>\n",
       "    <tr>\n",
       "      <th>1331</th>\n",
       "      <td>1595</td>\n",
       "      <td>Носко Карина Геннадиевна</td>\n",
       "      <td>Носко Карина Геннадиевна\\n\\nДолжность:\\n\\nСтар...</td>\n",
       "      <td>7103</td>\n",
       "      <td>7</td>\n",
       "      <td>23-04-2024</td>\n",
       "      <td>True</td>\n",
       "      <td>4.0</td>\n",
       "      <td>4.0</td>\n",
       "      <td>4.0</td>\n",
       "      <td>4.000000</td>\n",
       "    </tr>\n",
       "    <tr>\n",
       "      <th>615</th>\n",
       "      <td>708</td>\n",
       "      <td>Информационно-аналитический отдел</td>\n",
       "      <td>Информационно-аналитический отдел\\n\\nсоздан пр...</td>\n",
       "      <td>4341</td>\n",
       "      <td>4</td>\n",
       "      <td>13-02-2017</td>\n",
       "      <td>True</td>\n",
       "      <td>3.0</td>\n",
       "      <td>4.0</td>\n",
       "      <td>4.0</td>\n",
       "      <td>3.666667</td>\n",
       "    </tr>\n",
       "    <tr>\n",
       "      <th>2193</th>\n",
       "      <td>2615</td>\n",
       "      <td>Чуфицкий Сергей Викторович</td>\n",
       "      <td>Чуфицкий Сергей Викторович\\n\\nДолжность:\\n\\nст...</td>\n",
       "      <td>5153</td>\n",
       "      <td>5</td>\n",
       "      <td>06-05-2019</td>\n",
       "      <td>True</td>\n",
       "      <td>3.0</td>\n",
       "      <td>4.0</td>\n",
       "      <td>4.0</td>\n",
       "      <td>3.666667</td>\n",
       "    </tr>\n",
       "    <tr>\n",
       "      <th>1520</th>\n",
       "      <td>1838</td>\n",
       "      <td>Правила оформления тезисов</td>\n",
       "      <td>ТРЕБОВАНИЯ К ОФОРМЛЕНИЮ ТЕЗИСОВ\\n\\nМатериалы д...</td>\n",
       "      <td>2745</td>\n",
       "      <td>3</td>\n",
       "      <td>17-08-2021</td>\n",
       "      <td>True</td>\n",
       "      <td>4.0</td>\n",
       "      <td>5.0</td>\n",
       "      <td>4.0</td>\n",
       "      <td>4.333333</td>\n",
       "    </tr>\n",
       "  </tbody>\n",
       "</table>\n",
       "</div>"
      ],
      "text/plain": [
       "        id                                           filename  \\\n",
       "191    210                  Балакирева Елизавета Анатольевна    \n",
       "1262  1510                              Научная деятельность    \n",
       "2265   114  «Историческая память о Великой Победе как осно...   \n",
       "883   1044                          Квашина Людмила Павловна    \n",
       "2239  2665                   Электронно-библиотечная система    \n",
       "1129  1331                                  Материалы форума    \n",
       "1331  1595                          Носко Карина Геннадиевна    \n",
       "615    708                 Информационно-аналитический отдел    \n",
       "2193  2615                        Чуфицкий Сергей Викторович    \n",
       "1520  1838                        Правила оформления тезисов    \n",
       "\n",
       "                                                content   size  \\\n",
       "191   Балакирева Елизавета Анатольевна\\n\\nДолжность:...   8254   \n",
       "1262  Научная деятельность кафедры английского языка...   7218   \n",
       "2265  МАТЕРИАЛЫ\\n\\nМеждународной научно-практической...  32527   \n",
       "883   Квашина Людмила Павловна\\n\\nДолжность:\\n\\nДоце...   8511   \n",
       "2239  Электронно-библиотечная система\\n\\nБД\\n\\nОписа...   8815   \n",
       "1129  Том 1: Механико-математические, компьютерные и...   1314   \n",
       "1331  Носко Карина Геннадиевна\\n\\nДолжность:\\n\\nСтар...   7103   \n",
       "615   Информационно-аналитический отдел\\n\\nсоздан пр...   4341   \n",
       "2193  Чуфицкий Сергей Викторович\\n\\nДолжность:\\n\\nст...   5153   \n",
       "1520  ТРЕБОВАНИЯ К ОФОРМЛЕНИЮ ТЕЗИСОВ\\n\\nМатериалы д...   2745   \n",
       "\n",
       "      rounded_size_kb last_updated  already_evaluated  gemma2-9b-it  \\\n",
       "191                 8   17-01-2022               True           4.0   \n",
       "1262                7   12-11-2024               True           4.0   \n",
       "2265               32   04-06-2021              False           5.0   \n",
       "883                 8   23-04-2024               True           4.0   \n",
       "2239                9   13-10-2024               True           3.0   \n",
       "1129                1   30-06-2022               True           2.0   \n",
       "1331                7   23-04-2024               True           4.0   \n",
       "615                 4   13-02-2017               True           3.0   \n",
       "2193                5   06-05-2019               True           3.0   \n",
       "1520                3   17-08-2021               True           4.0   \n",
       "\n",
       "      llama-3.1-70b-versatile  llama-3.3-70b-versatile  average_score  \n",
       "191                       4.0                      4.0       4.000000  \n",
       "1262                      4.0                      4.0       4.000000  \n",
       "2265                      5.0                      5.0       5.000000  \n",
       "883                       4.0                      5.0       4.333333  \n",
       "2239                      4.0                      4.0       3.666667  \n",
       "1129                      3.0                      3.0       2.666667  \n",
       "1331                      4.0                      4.0       4.000000  \n",
       "615                       4.0                      4.0       3.666667  \n",
       "2193                      4.0                      4.0       3.666667  \n",
       "1520                      5.0                      4.0       4.333333  "
      ]
     },
     "execution_count": 20,
     "metadata": {},
     "output_type": "execute_result"
    }
   ],
   "source": [
    "relevant_texts = estimation_summary[estimation_summary['average_score'] > 2]\n",
    "relevant_texts.sample(10)"
   ]
  },
  {
   "cell_type": "markdown",
   "id": "60b75b59",
   "metadata": {},
   "source": [
    "Посмотрим на число релевантных файлов"
   ]
  },
  {
   "cell_type": "code",
   "execution_count": 21,
   "id": "a8ad1d2b",
   "metadata": {},
   "outputs": [
    {
     "name": "stdout",
     "output_type": "stream",
     "text": [
      "Выделено релевантных файлов: 2337\n"
     ]
    }
   ],
   "source": [
    "print(f\"Выделено релевантных файлов: {relevant_texts.shape[0]}\")"
   ]
  },
  {
   "cell_type": "markdown",
   "id": "8776a175",
   "metadata": {},
   "source": [
    "Если LLM будет генерировать в среднем по 5 инструкций на 1 файл, то в результате у нас получится instruction dataset на более чем `11 тыс.` пар инструкция-ответ, что вполне достаточно для дообучения LLM корпоративного интеллектуального ассистента "
   ]
  },
  {
   "cell_type": "markdown",
   "id": "eca1900e",
   "metadata": {},
   "source": [
    "Сохраним записи о релевантных текстовых файлах в csv"
   ]
  },
  {
   "cell_type": "code",
   "execution_count": 22,
   "id": "88ee09fe",
   "metadata": {},
   "outputs": [
    {
     "name": "stdout",
     "output_type": "stream",
     "text": [
      "Данные успешно сохранены\n"
     ]
    }
   ],
   "source": [
    "relevant_texts.to_csv('output/relevant_texts.csv')\n",
    "print(\"Данные успешно сохранены\")"
   ]
  }
 ],
 "metadata": {
  "kernelspec": {
   "display_name": "Python 3 (ipykernel)",
   "language": "python",
   "name": "python3"
  },
  "language_info": {
   "codemirror_mode": {
    "name": "ipython",
    "version": 3
   },
   "file_extension": ".py",
   "mimetype": "text/x-python",
   "name": "python",
   "nbconvert_exporter": "python",
   "pygments_lexer": "ipython3",
   "version": "3.11.5"
  }
 },
 "nbformat": 4,
 "nbformat_minor": 5
}
